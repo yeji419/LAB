{
 "cells": [
  {
   "cell_type": "code",
   "execution_count": null,
   "id": "9c0ae11c",
   "metadata": {},
   "outputs": [],
   "source": [
    "# data = a numpy array containing the signal to be processed\n",
    "# fs = a scalar which is the sampling frequency of the data\n",
    " \n",
    "hop_size = np.int32(np.floor(fft_size * (1-overlap_fac)))\n",
    "pad_end_size = fft_size          # the last segment can overlap the end of the data array by no more than one window size\n",
    "total_segments = np.int32(np.ceil(len(data) / np.float32(hop_size)))\n",
    "t_max = len(data) / np.float32(fs)\n",
    " \n",
    "window = np.hanning(fft_size)  # our half cosine window\n",
    "inner_pad = np.zeros(fft_size) # the zeros which will be used to double each segment size\n",
    " \n",
    "proc = np.concatenate((data, np.zeros(pad_end_size)))              # the data to process\n",
    "result = np.empty((total_segments, fft_size), dtype=np.float32)    # space to hold the result\n",
    " \n",
    "for i in xrange(total_segments):                      # for each segment\n",
    "    current_hop = hop_size * i                        # figure out the current segment offset\n",
    "    segment = proc[current_hop:current_hop+fft_size]  # get the current segment\n",
    "    windowed = segment * window                       # multiply by the half cosine function\n",
    "    padded = np.append(windowed, inner_pad)           # add 0s to double the length of the data\n",
    "    spectrum = np.fft.fft(padded) / fft_size          # take the Fourier Transform and scale by the number of samples\n",
    "    autopower = np.abs(spectrum * np.conj(spectrum))  # find the autopower spectrum\n",
    "    result[i, :] = autopower[:fft_size]               # append to the results array\n",
    " \n",
    "result = 20*np.log10(result)          # scale to db\n",
    "result = np.clip(result, -40, 200)    # clip values\n"
   ]
  }
 ],
 "metadata": {
  "kernelspec": {
   "display_name": "Python 3",
   "language": "python",
   "name": "python3"
  },
  "language_info": {
   "codemirror_mode": {
    "name": "ipython",
    "version": 3
   },
   "file_extension": ".py",
   "mimetype": "text/x-python",
   "name": "python",
   "nbconvert_exporter": "python",
   "pygments_lexer": "ipython3",
   "version": "3.8.8"
  }
 },
 "nbformat": 4,
 "nbformat_minor": 5
}
