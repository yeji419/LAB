{
 "cells": [
  {
   "cell_type": "code",
   "execution_count": 9,
   "id": "7327ad82",
   "metadata": {},
   "outputs": [],
   "source": [
    "import numpy as np\n",
    "import librosa\n",
    "import librosa.display\n",
    "import matplotlib.pyplot as plt\n",
    "import math\n",
    "import import_ipynb\n",
    "import soundfile as sf\n"
   ]
  },
  {
   "cell_type": "code",
   "execution_count": 10,
   "id": "074d6b57",
   "metadata": {},
   "outputs": [
    {
     "ename": "ImportError",
     "evalue": "cannot import name 'STFT' from 'STFTAlgorithm' (STFTAlgorithm.ipynb)",
     "output_type": "error",
     "traceback": [
      "\u001b[1;31m---------------------------------------------------------------------------\u001b[0m",
      "\u001b[1;31mImportError\u001b[0m                               Traceback (most recent call last)",
      "\u001b[1;32m<ipython-input-10-76b0bc53642d>\u001b[0m in \u001b[0;36m<module>\u001b[1;34m\u001b[0m\n\u001b[1;32m----> 1\u001b[1;33m \u001b[1;32mfrom\u001b[0m \u001b[0mSTFTAlgorithm\u001b[0m \u001b[1;32mimport\u001b[0m \u001b[0mSTFT\u001b[0m\u001b[1;33m,\u001b[0m \u001b[0mISTFT\u001b[0m\u001b[1;33m,\u001b[0m \u001b[0mGriffinLim\u001b[0m\u001b[1;33m\u001b[0m\u001b[1;33m\u001b[0m\u001b[0m\n\u001b[0m",
      "\u001b[1;31mImportError\u001b[0m: cannot import name 'STFT' from 'STFTAlgorithm' (STFTAlgorithm.ipynb)"
     ]
    }
   ],
   "source": [
    "from STFTAlgorithm import STFT, ISTFT, GriffinLim"
   ]
  },
  {
   "cell_type": "code",
   "execution_count": 2,
   "id": "776a6d75",
   "metadata": {},
   "outputs": [
    {
     "ename": "NameError",
     "evalue": "name 'STFT' is not defined",
     "output_type": "error",
     "traceback": [
      "\u001b[1;31m---------------------------------------------------------------------------\u001b[0m",
      "\u001b[1;31mNameError\u001b[0m                                 Traceback (most recent call last)",
      "\u001b[1;32m<ipython-input-2-519d108c8869>\u001b[0m in \u001b[0;36m<module>\u001b[1;34m\u001b[0m\n\u001b[1;32m----> 1\u001b[1;33m \u001b[0msin_stft\u001b[0m \u001b[1;33m=\u001b[0m \u001b[0mSTFT\u001b[0m\u001b[1;33m(\u001b[0m\u001b[0msin\u001b[0m\u001b[1;33m,\u001b[0m \u001b[1;36m32\u001b[0m\u001b[1;33m,\u001b[0m \u001b[1;36m16\u001b[0m\u001b[1;33m)\u001b[0m\u001b[1;33m\u001b[0m\u001b[1;33m\u001b[0m\u001b[0m\n\u001b[0m\u001b[0;32m      2\u001b[0m \u001b[0mprint\u001b[0m\u001b[1;33m(\u001b[0m\u001b[0msin_stft\u001b[0m\u001b[1;33m.\u001b[0m\u001b[0mshape\u001b[0m\u001b[1;33m)\u001b[0m\u001b[1;33m\u001b[0m\u001b[1;33m\u001b[0m\u001b[0m\n\u001b[0;32m      3\u001b[0m \u001b[0msin_libstft\u001b[0m \u001b[1;33m=\u001b[0m  \u001b[0mlibrosa\u001b[0m\u001b[1;33m.\u001b[0m\u001b[0mstft\u001b[0m\u001b[1;33m(\u001b[0m\u001b[0msin\u001b[0m\u001b[1;33m,\u001b[0m \u001b[0mn_fft\u001b[0m\u001b[1;33m=\u001b[0m\u001b[1;36m32\u001b[0m\u001b[1;33m,\u001b[0m \u001b[0mhop_length\u001b[0m\u001b[1;33m=\u001b[0m\u001b[1;36m16\u001b[0m\u001b[1;33m,\u001b[0m \u001b[0mwindow\u001b[0m\u001b[1;33m=\u001b[0m\u001b[1;34m'hamming'\u001b[0m\u001b[1;33m)\u001b[0m\u001b[1;33m\u001b[0m\u001b[1;33m\u001b[0m\u001b[0m\n\u001b[0;32m      4\u001b[0m \u001b[0mprint\u001b[0m\u001b[1;33m(\u001b[0m\u001b[0msin_libstft\u001b[0m\u001b[1;33m.\u001b[0m\u001b[0mshape\u001b[0m\u001b[1;33m)\u001b[0m\u001b[1;33m\u001b[0m\u001b[1;33m\u001b[0m\u001b[0m\n\u001b[0;32m      5\u001b[0m \u001b[0msin_half\u001b[0m \u001b[1;33m=\u001b[0m \u001b[1;33m(\u001b[0m\u001b[0msin_stft\u001b[0m\u001b[1;33m[\u001b[0m\u001b[1;33m:\u001b[0m\u001b[1;33m,\u001b[0m\u001b[1;33m:\u001b[0m\u001b[1;36m17\u001b[0m\u001b[1;33m]\u001b[0m\u001b[1;33m)\u001b[0m\u001b[1;33m.\u001b[0m\u001b[0mT\u001b[0m\u001b[1;33m\u001b[0m\u001b[1;33m\u001b[0m\u001b[0m\n",
      "\u001b[1;31mNameError\u001b[0m: name 'STFT' is not defined"
     ]
    }
   ],
   "source": [
    "sin_stft = STFT(sin, 32, 16)\n",
    "print(sin_stft.shape)\n",
    "sin_libstft =  librosa.stft(sin, n_fft=32, hop_length=16, window='hamming')\n",
    "print(sin_libstft.shape)\n",
    "sin_half = (sin_stft[:,:17]).T\n",
    "print(sin_half.shape)"
   ]
  },
  {
   "cell_type": "code",
   "execution_count": null,
   "id": "63fe32e2",
   "metadata": {},
   "outputs": [],
   "source": [
    "JCT_sig, sr = librosa.load('JCT.wav' , sr = 16000)\n",
    "window_length = 512\n",
    "shift = int(window_length / 2)\n",
    "JCT_stft = matrix_STFT(JCT_sig, window_length, shift)"
   ]
  },
  {
   "cell_type": "code",
   "execution_count": null,
   "id": "7aaff71a",
   "metadata": {},
   "outputs": [],
   "source": [
    "mask = np.exp(3*np.pi*1j)\n",
    "JCT_mstft = mask * JCT_stft\n",
    "JCT_result = GriffinLim(JCT_mstft, window_length, shift)\n",
    "plt.plot(JCT_sig, label='original')\n",
    "plt.plot(JCT_result, label='Griffin-Lim(mask=exp(3pi*j))')\n",
    "plt.legend()"
   ]
  },
  {
   "cell_type": "code",
   "execution_count": null,
   "id": "600d2c37",
   "metadata": {},
   "outputs": [],
   "source": [
    "JCT_istft = matrix_ISTFT(JCT_stft, window_length, shift)\n",
    "plt.plot(sig, label='original')\n",
    "plt.plot(JCT_istft, label='ISTFT')\n",
    "plt.legend()"
   ]
  },
  {
   "cell_type": "code",
   "execution_count": null,
   "id": "479a479d",
   "metadata": {},
   "outputs": [],
   "source": []
  },
  {
   "cell_type": "code",
   "execution_count": null,
   "id": "cf804da9",
   "metadata": {},
   "outputs": [],
   "source": [
    "my_sig, sr = librosa.load('my voice.wav' , sr = 16000)\n",
    "window_length = 512\n",
    "shift = int(window_length / 2)\n",
    "my_stft = matrix_STFT(my_sig, window_length, shift)"
   ]
  },
  {
   "cell_type": "code",
   "execution_count": null,
   "id": "99cb77a8",
   "metadata": {},
   "outputs": [],
   "source": [
    "mask = np.exp(-50*1j)\n",
    "my_mstft = mask * my_stft\n",
    "my_result = GriffinLim(my_mstft, window_length, shift)\n",
    "plt.plot('My Voice')\n",
    "plt.plot(my_sig, label='original')\n",
    "plt.plot(my_result, label='Griffin-Lim (mask = exp(-50*1j))')\n",
    "plt.legend()"
   ]
  },
  {
   "cell_type": "code",
   "execution_count": null,
   "id": "ede77ebc",
   "metadata": {},
   "outputs": [],
   "source": []
  },
  {
   "cell_type": "code",
   "execution_count": null,
   "id": "d5d5e78b",
   "metadata": {},
   "outputs": [],
   "source": [
    "sf.write('my_result(mask=exp(-50j),sr=16000).wav', my_result, sr, 'PCM_24')"
   ]
  }
 ],
 "metadata": {
  "kernelspec": {
   "display_name": "Python 3",
   "language": "python",
   "name": "python3"
  },
  "language_info": {
   "codemirror_mode": {
    "name": "ipython",
    "version": 3
   },
   "file_extension": ".py",
   "mimetype": "text/x-python",
   "name": "python",
   "nbconvert_exporter": "python",
   "pygments_lexer": "ipython3",
   "version": "3.8.8"
  }
 },
 "nbformat": 4,
 "nbformat_minor": 5
}
