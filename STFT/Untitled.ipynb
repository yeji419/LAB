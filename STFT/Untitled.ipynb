{
 "cells": [
  {
   "cell_type": "code",
   "execution_count": 3,
   "id": "2dc457ac",
   "metadata": {},
   "outputs": [],
   "source": [
    "import numpy as np\n",
    "import librosa\n",
    "import matplotlib.pyplot as plt\n",
    "import math\n",
    "import soundfile as sf"
   ]
  },
  {
   "cell_type": "code",
   "execution_count": 4,
   "id": "ca36afc6",
   "metadata": {},
   "outputs": [],
   "source": [
    "sig, sr = librosa.load('JCT.wav' , sr = 16000)"
   ]
  },
  {
   "cell_type": "code",
   "execution_count": 6,
   "id": "5351f4e4",
   "metadata": {},
   "outputs": [
    {
     "name": "stdout",
     "output_type": "stream",
     "text": [
      "37376\n"
     ]
    }
   ],
   "source": [
    "#zero padding\n",
    "window_length = 512\n",
    "shift = int(window_length / 2)\n",
    "zero = np.zeros([int(window_length - (shift+1)) + int(math.ceil(len(sig)/shift)*shift-(len(sig)-1))])\n",
    "sig = np.concatenate([sig,zero],axis=None)\n",
    "print(len(sig))"
   ]
  },
  {
   "cell_type": "code",
   "execution_count": 64,
   "id": "0b0af8ed",
   "metadata": {},
   "outputs": [
    {
     "name": "stdout",
     "output_type": "stream",
     "text": [
      "36865\n",
      "37376\n"
     ]
    }
   ],
   "source": [
    "print(len(sig)-(window_length-1))\n",
    "print(len(sig))"
   ]
  },
  {
   "cell_type": "code",
   "execution_count": 7,
   "id": "f1597da5",
   "metadata": {},
   "outputs": [
    {
     "name": "stdout",
     "output_type": "stream",
     "text": [
      "0\n",
      "256\n",
      "512\n",
      "768\n",
      "1024\n",
      "1280\n",
      "1536\n",
      "1792\n",
      "2048\n",
      "2304\n",
      "2560\n",
      "2816\n",
      "3072\n",
      "3328\n",
      "3584\n",
      "3840\n",
      "4096\n",
      "4352\n",
      "4608\n",
      "4864\n",
      "5120\n",
      "5376\n",
      "5632\n",
      "5888\n",
      "6144\n",
      "6400\n",
      "6656\n",
      "6912\n",
      "7168\n",
      "7424\n",
      "7680\n",
      "7936\n",
      "8192\n",
      "8448\n",
      "8704\n",
      "8960\n",
      "9216\n",
      "9472\n",
      "9728\n",
      "9984\n",
      "10240\n",
      "10496\n",
      "10752\n",
      "11008\n",
      "11264\n",
      "11520\n",
      "11776\n",
      "12032\n",
      "12288\n",
      "12544\n",
      "12800\n",
      "13056\n",
      "13312\n",
      "13568\n",
      "13824\n",
      "14080\n",
      "14336\n",
      "14592\n",
      "14848\n",
      "15104\n",
      "15360\n",
      "15616\n",
      "15872\n",
      "16128\n",
      "16384\n",
      "16640\n",
      "16896\n",
      "17152\n",
      "17408\n",
      "17664\n",
      "17920\n",
      "18176\n",
      "18432\n",
      "18688\n",
      "18944\n",
      "19200\n",
      "19456\n",
      "19712\n",
      "19968\n",
      "20224\n",
      "20480\n",
      "20736\n",
      "20992\n",
      "21248\n",
      "21504\n",
      "21760\n",
      "22016\n",
      "22272\n",
      "22528\n",
      "22784\n",
      "23040\n",
      "23296\n",
      "23552\n",
      "23808\n",
      "24064\n",
      "24320\n",
      "24576\n",
      "24832\n",
      "25088\n",
      "25344\n",
      "25600\n",
      "25856\n",
      "26112\n",
      "26368\n",
      "26624\n",
      "26880\n",
      "27136\n",
      "27392\n",
      "27648\n",
      "27904\n",
      "28160\n",
      "28416\n",
      "28672\n",
      "28928\n",
      "29184\n",
      "29440\n",
      "29696\n",
      "29952\n",
      "30208\n",
      "30464\n",
      "30720\n",
      "30976\n",
      "31232\n",
      "31488\n",
      "31744\n",
      "32000\n",
      "32256\n",
      "32512\n",
      "32768\n",
      "33024\n",
      "33280\n",
      "33536\n",
      "33792\n",
      "34048\n",
      "34304\n",
      "34560\n",
      "34816\n",
      "35072\n",
      "35328\n",
      "35584\n",
      "35840\n",
      "36096\n",
      "36352\n",
      "36608\n",
      "36864\n"
     ]
    }
   ],
   "source": [
    "window = np.hanning(window_length)\n",
    "STFT = []\n",
    "for i in range(0, len(sig)-(window_length-1), shift):\n",
    "    print(i)\n",
    "    idx_list = []\n",
    "    for idx in range(i,i+window_length,1):\n",
    "        idx_list.append(idx)\n",
    "    globals()['F{}'.format(i)] = []\n",
    "    for k in range(0, window_length,1):\n",
    "        F = 0\n",
    "        for l, idx in enumerate(idx_list):\n",
    "            value = ((2*np.pi)*k*l)/window_length\n",
    "            F = F + ( window[l]*sig[idx]*complex(np.cos(value),np.sin(value)) )\n",
    "        globals()['F{}'.format(i)].append(F)\n",
    "        \n",
    "    STFT.append(globals()['F{}'.format(i)])\n",
    "            "
   ]
  },
  {
   "cell_type": "code",
   "execution_count": 8,
   "id": "71708f2f",
   "metadata": {},
   "outputs": [],
   "source": [
    "STFT = np.array(STFT)"
   ]
  },
  {
   "cell_type": "code",
   "execution_count": 30,
   "id": "d08aa693",
   "metadata": {},
   "outputs": [
    {
     "name": "stdout",
     "output_type": "stream",
     "text": [
      "0\n",
      "1\n",
      "2\n",
      "3\n",
      "4\n",
      "5\n",
      "6\n",
      "7\n",
      "8\n",
      "9\n",
      "10\n",
      "11\n",
      "12\n",
      "13\n",
      "14\n",
      "15\n",
      "16\n",
      "17\n",
      "18\n",
      "19\n",
      "20\n",
      "21\n",
      "22\n",
      "23\n",
      "24\n",
      "25\n",
      "26\n",
      "27\n",
      "28\n",
      "29\n",
      "30\n",
      "31\n",
      "32\n",
      "33\n",
      "34\n",
      "35\n",
      "36\n",
      "37\n",
      "38\n",
      "39\n",
      "40\n",
      "41\n",
      "42\n",
      "43\n",
      "44\n",
      "45\n",
      "46\n",
      "47\n",
      "48\n",
      "49\n",
      "50\n",
      "51\n",
      "52\n",
      "53\n",
      "54\n",
      "55\n",
      "56\n",
      "57\n",
      "58\n",
      "59\n",
      "60\n",
      "61\n",
      "62\n",
      "63\n",
      "64\n",
      "65\n",
      "66\n",
      "67\n",
      "68\n",
      "69\n",
      "70\n",
      "71\n",
      "72\n",
      "73\n",
      "74\n",
      "75\n",
      "76\n",
      "77\n",
      "78\n",
      "79\n",
      "80\n",
      "81\n",
      "82\n",
      "83\n",
      "84\n",
      "85\n",
      "86\n",
      "87\n",
      "88\n",
      "89\n",
      "90\n",
      "91\n",
      "92\n",
      "93\n",
      "94\n",
      "95\n",
      "96\n",
      "97\n",
      "98\n",
      "99\n",
      "100\n",
      "101\n",
      "102\n",
      "103\n",
      "104\n",
      "105\n",
      "106\n",
      "107\n",
      "108\n",
      "109\n",
      "110\n",
      "111\n",
      "112\n",
      "113\n",
      "114\n",
      "115\n",
      "116\n",
      "117\n",
      "118\n",
      "119\n",
      "120\n",
      "121\n",
      "122\n",
      "123\n",
      "124\n",
      "125\n",
      "126\n",
      "127\n",
      "128\n",
      "129\n",
      "130\n",
      "131\n",
      "132\n",
      "133\n",
      "134\n",
      "135\n",
      "136\n",
      "137\n",
      "138\n",
      "139\n",
      "140\n",
      "141\n",
      "142\n",
      "143\n",
      "144\n"
     ]
    }
   ],
   "source": [
    "ISTFT = []\n",
    "for m in range(0, len(STFT),1):\n",
    "    print(m)\n",
    "    globals()['y{}'.format(m)] = []\n",
    "    for l in range(0, window_length,1):\n",
    "        y = 0\n",
    "        for k in range(0, window_length,1):\n",
    "            value = -1 * (((2*np.pi)*k*l)/window_length)\n",
    "            y = y + (STFT[m,k]*complex(np.cos(value),np.sin(value)) )\n",
    "        y = y * (1/window_length)\n",
    "        globals()['y{}'.format(m)].append(y)\n",
    "        \n",
    "    ISTFT.append(globals()['y{}'.format(m)])\n",
    "            "
   ]
  },
  {
   "cell_type": "code",
   "execution_count": 47,
   "id": "9cdf91ca",
   "metadata": {},
   "outputs": [
    {
     "name": "stdout",
     "output_type": "stream",
     "text": [
      "[[(-6.797947621484113e-17+3.3881317890172014e-16j), (-1.3689253631007795e-07+2.2215302514227986e-16j), (-7.190718455873045e-07+4.742300302451596e-16j), (-2.8660364329193672e-06+1.0332446703786857e-16j), (-4.649018754020705e-06+2.2106882296979435e-16j), (-1.1075884753811594e-05+2.581485372687986e-16j), (-1.3059190889368655e-05+1.6523241108679088e-16j), (-1.2002596804067047e-05+1.6761765586625899e-16j), (-2.609452015997862e-05+7.405100838075995e-17j), (-3.451915100501448e-05-1.3053794156725473e-16j)]]\n",
      "hey\n",
      "[[(-6.797947621484113e-17+3.3881317890172014e-16j), (-1.3689253631007795e-07+2.2215302514227986e-16j), (-7.190718455873045e-07+4.742300302451596e-16j), (-2.8660364329193672e-06+1.0332446703786857e-16j), (-4.649018754020705e-06+2.2106882296979435e-16j), (-1.1075884753811594e-05+2.581485372687986e-16j), (-1.3059190889368655e-05+1.6523241108679088e-16j), (-1.2002596804067047e-05+1.6761765586625899e-16j), (-2.609452015997862e-05+7.405100838075995e-17j), (-3.451915100501448e-05-1.3053794156725473e-16j)], array([-3.84276577e-05+3.10298662e-16j, -3.11637699e-05+1.12757026e-16j,\n",
      "       -6.09290564e-05+5.74627151e-17j, -5.62343850e-05-1.60461922e-16j,\n",
      "       -6.15011148e-05-1.48102017e-16j])]\n"
     ]
    }
   ],
   "source": []
  },
  {
   "cell_type": "code",
   "execution_count": 63,
   "id": "878c3282",
   "metadata": {},
   "outputs": [
    {
     "name": "stdout",
     "output_type": "stream",
     "text": [
      "(145, 512)\n",
      "(145, 256)\n"
     ]
    }
   ],
   "source": [
    "print(ISTFT.shape)\n",
    "a = []\n",
    "for i in range(0,len(ISTFT),1):\n",
    "    a.append(STFT[i,:256])\n",
    "    \n",
    "a = np.array(a)\n",
    "a.reshape(1,-1)\n",
    "print(a.shape)"
   ]
  },
  {
   "cell_type": "code",
   "execution_count": 29,
   "id": "caeee98c",
   "metadata": {},
   "outputs": [],
   "source": [
    "sf.write('ISTFT_output.wav', ISTFT, sr, 'PCM_16')"
   ]
  },
  {
   "cell_type": "code",
   "execution_count": 21,
   "id": "73098a2e",
   "metadata": {},
   "outputs": [
    {
     "name": "stderr",
     "output_type": "stream",
     "text": [
      "C:\\Users\\yegee\\anaconda3\\lib\\site-packages\\numpy\\core\\_asarray.py:102: ComplexWarning: Casting complex values to real discards the imaginary part\n",
      "  return array(a, dtype, copy=False, order=order)\n"
     ]
    },
    {
     "data": {
      "image/png": "[encoded data removed]",
      "text/plain": [
       "<Figure size 432x288 with 1 Axes>"
      ]
     },
     "metadata": {
      "needs_background": "light"
     },
     "output_type": "display_data"
    },
    {
     "data": {
      "text/plain": [
       "[<matplotlib.lines.Line2D at 0x1fade0de9a0>]"
      ]
     },
     "execution_count": 21,
     "metadata": {},
     "output_type": "execute_result"
    },
    {
     "data": {
      "image/png": "[encoded data removed]",
      "text/plain": [
       "<Figure size 432x288 with 1 Axes>"
      ]
     },
     "metadata": {
      "needs_background": "light"
     },
     "output_type": "display_data"
    }
   ],
   "source": [
    "  \n",
    "from scipy import signal\n",
    "from scipy.fft import fft, ifft, fftfreq\n",
    "import numpy as np\n",
    "import matplotlib.pyplot as plt\n",
    "\n",
    "\n",
    "t = np.linspace(-10, 10, 10000)\n",
    "y = (signal.square(t,duty = 0.25)+1)/2\n",
    "Y = fft(y,n=len(t))\n",
    "\n",
    "#for i in range(5,5):\n",
    "i = 4\n",
    "n = 10000\n",
    "y_i = ifft(Y,n=n) #*n/10000 - 0.1) #or (2**(3*i+1))\n",
    "t = np.linspace(-10, 10, n)\n",
    "plt.plot(t,y_i)\n",
    "t = np.linspace(-10, 10, 10000)\n",
    "\n",
    "plt.plot(t,y,'--')\n",
    "plt.show()\n",
    "\n",
    "abss = abs(y_i)\n",
    "\n",
    "plt.plot(t, abss, '--')"
   ]
  },
  {
   "cell_type": "code",
   "execution_count": 15,
   "id": "50f63602",
   "metadata": {},
   "outputs": [
    {
     "name": "stdout",
     "output_type": "stream",
     "text": [
      "[ 4.54747351e-17+3.73034936e-17j -4.54747351e-17-3.67261777e-17j\n",
      "  0.00000000e+00-8.52651283e-18j  1.36424205e-16+2.70894418e-18j\n",
      "  0.00000000e+00-2.93098879e-17j  4.54747351e-17-1.27897692e-17j\n",
      "  0.00000000e+00+2.15827356e-17j  1.36424205e-16-3.72590847e-17j\n",
      " -1.36424205e-16+4.54747351e-17j -9.09494702e-17-1.03339559e-16j]\n",
      "[0. 0. 0. 0. 0. 0. 0. 0. 0. 0.]\n"
     ]
    }
   ],
   "source": [
    "print(y_i[0:10])\n",
    "print(y[0:10])"
   ]
  }
 ],
 "metadata": {
  "kernelspec": {
   "display_name": "Python 3",
   "language": "python",
   "name": "python3"
  },
  "language_info": {
   "codemirror_mode": {
    "name": "ipython",
    "version": 3
   },
   "file_extension": ".py",
   "mimetype": "text/x-python",
   "name": "python",
   "nbconvert_exporter": "python",
   "pygments_lexer": "ipython3",
   "version": "3.8.8"
  }
 },
 "nbformat": 4,
 "nbformat_minor": 5
}
