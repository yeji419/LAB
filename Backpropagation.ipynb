{
 "cells": [
  {
   "cell_type": "code",
   "execution_count": 5,
   "metadata": {},
   "outputs": [],
   "source": [
    "import numpy as np\n",
    "import pandas as pd\n",
    "from sklearn.model_selection import train_test_split\n",
    "import matplotlib.pyplot as plt"
   ]
  },
  {
   "cell_type": "code",
   "execution_count": 6,
   "metadata": {},
   "outputs": [],
   "source": [
    "np.random.seed(42)"
   ]
  },
  {
   "cell_type": "code",
   "execution_count": 7,
   "metadata": {},
   "outputs": [],
   "source": [
    "dataset = pd.read_csv('./MNIST_preprocessed.csv', sep=',', header=None).values\n",
    "X = dataset[:, 0:784]\n",
    "Y = dataset[:, 784:]\n",
    "# 데이터 300개, 한 데이터당 784개의 값, 클래스 10개 원핫인코딩"
   ]
  },
  {
   "cell_type": "code",
   "execution_count": 8,
   "metadata": {},
   "outputs": [],
   "source": [
    "X_train, X_test, Y_train, Y_test = train_test_split(X, Y, test_size=0.3, random_state=5)"
   ]
  },
  {
   "cell_type": "code",
   "execution_count": 9,
   "metadata": {},
   "outputs": [],
   "source": [
    "def sigmoid(x):\n",
    "    return 1/(1 + np.exp(-x))\n"
   ]
  },
  {
   "cell_type": "code",
   "execution_count": 10,
   "metadata": {},
   "outputs": [],
   "source": [
    "def d_sigmoid(x):\n",
    "    \"\"\"시그모이드 미분 함수\"\"\"\n",
    "    return (np.exp(-x))/((np.exp(-x)+1)**2)"
   ]
  },
  {
   "cell_type": "code",
   "execution_count": 11,
   "metadata": {},
   "outputs": [],
   "source": [
    "def initialize_parameters(neurons_per_layer):\n",
    "    \"\"\"가중치, 편향 초기화\"\"\"\n",
    "    \n",
    "    L = len(neurons_per_layer) - 1  # 층 개수 저장\n",
    "    parameters = {}\n",
    "    \n",
    "    # 1층 부터 L 층까지 돌면서 가중치와 편향 초기화\n",
    "    for l in range(1, L+1):\n",
    "        parameters['W' + str(l)] = np.random.randn(neurons_per_layer[l], neurons_per_layer[l-1]) * np.sqrt(1. / neurons_per_layer[l])\n",
    "        parameters['b' + str(l)] = np.random.randn(neurons_per_layer[l]) * np.sqrt(1. / neurons_per_layer[l])\n",
    "        \n",
    "    return parameters"
   ]
  },
  {
   "cell_type": "code",
   "execution_count": 12,
   "metadata": {},
   "outputs": [],
   "source": [
    "def neuron_values(x, parameters):\n",
    "    \"\"\"층의 뉴런을 계산하는 함수\"\"\"\n",
    "    cache = {'a0': x}\n",
    "    L = len(parameters) // 2\n",
    "    \n",
    "    for l in range(1, L+1):\n",
    "        # 전 층 뉴런의 출력, 현재 층 뉴런들의 가중치, 편향 데이터\n",
    "        a_prev = cache['a' + str(l-1)]\n",
    "        W = parameters['W' + str(l)]\n",
    "        b = parameters['b' + str(l)]\n",
    "        \n",
    "        # 데이터로 z와 a를 계산\n",
    "        z = W @ a_prev + b\n",
    "        a = sigmoid(z)\n",
    "\n",
    "        # 결과 값을 캐쉬에 저장, 캐쉬 안에는 각 층의 z값과 a값이 저장됨.\n",
    "        cache['z' + str(l)] = z\n",
    "        cache['a' + str(l)] = a\n",
    "                \n",
    "    return a, cache\n"
   ]
  },
  {
   "cell_type": "code",
   "execution_count": 13,
   "metadata": {},
   "outputs": [],
   "source": [
    "def compute_accuracy(x_val, y_val, parameters):\n",
    "    \"\"\"테스트 데이터에서 예측값들의 성능을 계산하는 함수\"\"\"\n",
    "    predictions = []\n",
    "\n",
    "    for x, y in zip(x_val, y_val):\n",
    "        output, _ = neuron_values(x, parameters)\n",
    "        pred = np.argmax(output)\n",
    "        predictions.append(pred == np.argmax(y))\n",
    "\n",
    "    return np.mean(predictions)\n"
   ]
  },
  {
   "cell_type": "code",
   "execution_count": 14,
   "metadata": {},
   "outputs": [],
   "source": [
    "def compute_loss(x_val, y_val, parameters):\n",
    "    \"\"\"학습 데이터에서 현재 모델의 손실을 계산하는 함수\"\"\"\n",
    "    loss = 0\n",
    "    \n",
    "    for x, y in zip(x_val, y_val):\n",
    "        output, _ = neuron_values(x, parameters) # output은 model을 이용한 prediction\n",
    "        loss += np.mean((output - y)**2) / 2 #하나의 아웃풋 당 요소들의 차이의 평균\n",
    "        \n",
    "    return loss / len(x_val)"
   ]
  },
  {
   "cell_type": "code",
   "execution_count": 15,
   "metadata": {},
   "outputs": [],
   "source": [
    "def back_prop(prediction, y, cache, parameters):\n",
    "    \"\"\"backpropagation 함수\"\"\"\n",
    "    gradients = {}\n",
    "    L = len(cache) // 2\n",
    "    da = (prediction - y) / y.shape[0]\n",
    "    \n",
    "    for layer in range(L, 0, -1):\n",
    "        \n",
    "        db =  d_sigmoid(cache['z'+str(layer)]) * da\n",
    "        dW = np.outer(db,cache['a'+str(layer-1)])\n",
    "        da = parameters['W'+str(layer)].T @ db\n",
    "        \n",
    "\n",
    "        gradients['dW' + str(layer)] = dW\n",
    "        gradients['db' + str(layer)] = db\n",
    "\n",
    "    return gradients"
   ]
  },
  {
   "cell_type": "code",
   "execution_count": 16,
   "metadata": {},
   "outputs": [],
   "source": [
    "def update(parameters, gradients, alpha, m):\n",
    "    \"\"\"편미분값으로 가중치와 편향을 업데이트 하는 함수\"\"\"\n",
    "    L = len(parameters) // 2\n",
    "    \n",
    "    for layer in range(1, L+1):\n",
    "        parameters['W'+str(layer)] -= alpha * gradients['dW'+str(layer)] / m\n",
    "        parameters['b'+str(layer)] -= alpha * gradients['db'+str(layer)] / m\n",
    "    \n",
    "    return parameters"
   ]
  },
  {
   "cell_type": "code",
   "execution_count": 17,
   "metadata": {},
   "outputs": [],
   "source": [
    "def train_nn(X_train, Y_train, X_test, Y_test, neurons_per_layer, epoch, alpha):\n",
    "    \"\"\"신경망을 학습시키는 함수\"\"\"\n",
    "    parameters = initialize_parameters(neurons_per_layer)\n",
    "    loss_list_train = []\n",
    "    accuracy_list_test = []\n",
    "    m = X_train.shape[0] # X_train 행 개수 = data개수\n",
    "    \n",
    "    for i in range(epoch):\n",
    "        parameters_copy = parameters.copy()\n",
    "        for x, y in zip(X_train, Y_train):\n",
    "            prediction, cache = neuron_values(x, parameters)  \n",
    "            gradients = back_prop(prediction, y, cache, parameters)\n",
    "            parameters_copy = update(parameters_copy, gradients, alpha, m) \n",
    "            \n",
    "        # 300개의 데이터에 대해 랜덤한 가중치로 계산 후 가중치와 편향 업데이트\n",
    "        parameters = parameters_copy\n",
    "        loss_list_train.append(compute_loss(X_train, Y_train, parameters))\n",
    "        accuracy_list_test.append(compute_accuracy(X_test, Y_test, parameters))\n",
    "        print('{}번째 경사 하강, 테스트 셋에서 성능: {}'.format(i+1, round(compute_accuracy(X_test, Y_test, parameters), 2)))     \n",
    "            \n",
    "    return loss_list_train, accuracy_list_test, parameters"
   ]
  },
  {
   "cell_type": "code",
   "execution_count": 18,
   "metadata": {},
   "outputs": [],
   "source": [
    "def train_nnn(X_train, Y_train, X_test, Y_test, neurons_per_layer, epoch, alpha):\n",
    "    \"\"\"신경망을 학습시키는 함수\"\"\"\n",
    "    parameters = initialize_parameters(neurons_per_layer)\n",
    "    loss_list_train = []\n",
    "    accuracy_list_test = []\n",
    "    m = X_train.shape[0] # X_train 행 개수 = data개수\n",
    "    \n",
    "    for i in range(epoch):\n",
    "\n",
    "        for x, y in zip(X_train, Y_train):\n",
    "            prediction, cache = neuron_values(x, parameters)  \n",
    "            gradients = back_prop(prediction, y, cache, parameters)\n",
    "            parameters = update(parameters, gradients, alpha, m) \n",
    "            \n",
    "        # 300개의 데이터에 대해 랜덤한 가중치로 계산 후 가중치와 편향 업데이트\n",
    "\n",
    "        loss_list_train.append(compute_loss(X_train, Y_train, parameters))\n",
    "        accuracy_list_test.append(compute_accuracy(X_test, Y_test, parameters))\n",
    "        print('{}번째 경사 하강, 테스트 셋에서 성능: {}'.format(i+1, round(compute_accuracy(X_test, Y_test, parameters), 2)))     \n",
    "            \n",
    "    return loss_list_train, accuracy_list_test, parameters"
   ]
  },
  {
   "cell_type": "code",
   "execution_count": 19,
   "metadata": {},
   "outputs": [
    {
     "name": "stdout",
     "output_type": "stream",
     "text": [
      "1번째 경사 하강, 테스트 셋에서 성능: 0.26\n",
      "2번째 경사 하강, 테스트 셋에서 성능: 0.62\n",
      "3번째 경사 하강, 테스트 셋에서 성능: 0.71\n",
      "4번째 경사 하강, 테스트 셋에서 성능: 0.74\n",
      "5번째 경사 하강, 테스트 셋에서 성능: 0.82\n",
      "6번째 경사 하강, 테스트 셋에서 성능: 0.84\n",
      "7번째 경사 하강, 테스트 셋에서 성능: 0.84\n",
      "8번째 경사 하강, 테스트 셋에서 성능: 0.88\n",
      "9번째 경사 하강, 테스트 셋에서 성능: 0.89\n",
      "10번째 경사 하강, 테스트 셋에서 성능: 0.89\n",
      "11번째 경사 하강, 테스트 셋에서 성능: 0.89\n",
      "12번째 경사 하강, 테스트 셋에서 성능: 0.88\n",
      "13번째 경사 하강, 테스트 셋에서 성능: 0.88\n",
      "14번째 경사 하강, 테스트 셋에서 성능: 0.88\n",
      "15번째 경사 하강, 테스트 셋에서 성능: 0.88\n",
      "16번째 경사 하강, 테스트 셋에서 성능: 0.88\n",
      "17번째 경사 하강, 테스트 셋에서 성능: 0.88\n",
      "18번째 경사 하강, 테스트 셋에서 성능: 0.88\n",
      "19번째 경사 하강, 테스트 셋에서 성능: 0.88\n",
      "20번째 경사 하강, 테스트 셋에서 성능: 0.88\n",
      "21번째 경사 하강, 테스트 셋에서 성능: 0.88\n",
      "22번째 경사 하강, 테스트 셋에서 성능: 0.88\n",
      "23번째 경사 하강, 테스트 셋에서 성능: 0.88\n",
      "24번째 경사 하강, 테스트 셋에서 성능: 0.88\n",
      "25번째 경사 하강, 테스트 셋에서 성능: 0.88\n"
     ]
    }
   ],
   "source": [
    "neurons_per_layer = [784, 128, 64, 10] # 데이터 하나당 784개의 값, class는 10개\n",
    "\n",
    "parameters = initialize_parameters(neurons_per_layer)\n",
    "\n",
    "loss_list_tain, accuracy_list_test, parameters = train_nn(X_train, Y_train, X_test, Y_test, neurons_per_layer, 25, 300)\n"
   ]
  },
  {
   "cell_type": "code",
   "execution_count": 105,
   "metadata": {},
   "outputs": [
    {
     "name": "stdout",
     "output_type": "stream",
     "text": [
      "1번째 경사 하강, 테스트 셋에서 성능: 0.16\n",
      "2번째 경사 하강, 테스트 셋에서 성능: 0.36\n",
      "3번째 경사 하강, 테스트 셋에서 성능: 0.54\n",
      "4번째 경사 하강, 테스트 셋에서 성능: 0.63\n",
      "5번째 경사 하강, 테스트 셋에서 성능: 0.68\n",
      "6번째 경사 하강, 테스트 셋에서 성능: 0.71\n",
      "7번째 경사 하강, 테스트 셋에서 성능: 0.72\n",
      "8번째 경사 하강, 테스트 셋에서 성능: 0.77\n",
      "9번째 경사 하강, 테스트 셋에서 성능: 0.78\n",
      "10번째 경사 하강, 테스트 셋에서 성능: 0.79\n",
      "11번째 경사 하강, 테스트 셋에서 성능: 0.79\n",
      "12번째 경사 하강, 테스트 셋에서 성능: 0.81\n",
      "13번째 경사 하강, 테스트 셋에서 성능: 0.83\n",
      "14번째 경사 하강, 테스트 셋에서 성능: 0.83\n",
      "15번째 경사 하강, 테스트 셋에서 성능: 0.84\n",
      "16번째 경사 하강, 테스트 셋에서 성능: 0.84\n",
      "17번째 경사 하강, 테스트 셋에서 성능: 0.86\n",
      "18번째 경사 하강, 테스트 셋에서 성능: 0.88\n",
      "19번째 경사 하강, 테스트 셋에서 성능: 0.88\n",
      "20번째 경사 하강, 테스트 셋에서 성능: 0.88\n",
      "21번째 경사 하강, 테스트 셋에서 성능: 0.88\n",
      "22번째 경사 하강, 테스트 셋에서 성능: 0.9\n",
      "23번째 경사 하강, 테스트 셋에서 성능: 0.89\n",
      "24번째 경사 하강, 테스트 셋에서 성능: 0.89\n",
      "25번째 경사 하강, 테스트 셋에서 성능: 0.89\n"
     ]
    }
   ],
   "source": [
    "neurons_per_layer = [784, 128, 64, 10] # 데이터 하나당 784개의 값, class는 10개\n",
    "\n",
    "parameters = initialize_parameters(neurons_per_layer)\n",
    "\n",
    "loss_list_tain, accuracy_list_test, parameters = train_nnn(X_train, Y_train, X_test, Y_test, neurons_per_layer, 25, 300)\n"
   ]
  },
  {
   "cell_type": "code",
   "execution_count": 59,
   "metadata": {},
   "outputs": [
    {
     "data": {
      "image/png": "[encoded data removed]",
      "text/plain": [
       "<Figure size 576x432 with 1 Axes>"
      ]
     },
     "metadata": {
      "needs_background": "light"
     },
     "output_type": "display_data"
    },
    {
     "data": {
      "text/plain": [
       "[<matplotlib.lines.Line2D at 0x2da220c4ec8>]"
      ]
     },
     "execution_count": 59,
     "metadata": {},
     "output_type": "execute_result"
    },
    {
     "data": {
      "image/png": "[encoded data removed]",
      "text/plain": [
       "<Figure size 576x432 with 1 Axes>"
      ]
     },
     "metadata": {
      "needs_background": "light"
     },
     "output_type": "display_data"
    }
   ],
   "source": [
    "plt.figure(figsize=(8,6))\n",
    "plt.title(\"MSE of trainset\")\n",
    "plt.xlabel(\"epoch\")\n",
    "plt.plot(loss_list_tain)\n",
    "plt.show()\n",
    "plt.figure(figsize=(8,6))\n",
    "plt.title(\"Accuracy of testset\")\n",
    "plt.xlabel(\"epoch\")\n",
    "plt.plot(accuracy_list_test)"
   ]
  },
  {
   "cell_type": "code",
   "execution_count": 30,
   "metadata": {},
   "outputs": [
    {
     "name": "stdout",
     "output_type": "stream",
     "text": [
      "(128, 784)\n"
     ]
    }
   ],
   "source": [
    "print(parameters['W1'].shape)"
   ]
  },
  {
   "cell_type": "code",
   "execution_count": 32,
   "metadata": {},
   "outputs": [],
   "source": [
    "a = [2, 7, 9, 10]"
   ]
  },
  {
   "cell_type": "code",
   "execution_count": 60,
   "metadata": {},
   "outputs": [
    {
     "name": "stdout",
     "output_type": "stream",
     "text": [
      "(128, 784)\n"
     ]
    }
   ],
   "source": [
    "print(parameters['W1'].shape)"
   ]
  },
  {
   "cell_type": "code",
   "execution_count": 43,
   "metadata": {},
   "outputs": [
    {
     "name": "stdout",
     "output_type": "stream",
     "text": [
      "2 (784,) (10,)\n",
      "2 (784,) (10,)\n",
      "2 (784,) (10,)\n",
      "2 (784,) (10,)\n",
      "2 (784,) (10,)\n",
      "2 (784,) (10,)\n",
      "2 (784,) (10,)\n",
      "2 (784,) (10,)\n",
      "2 (784,) (10,)\n",
      "2 (784,) (10,)\n",
      "2 (784,) (10,)\n",
      "2 (784,) (10,)\n",
      "2 (784,) (10,)\n",
      "2 (784,) (10,)\n",
      "2 (784,) (10,)\n",
      "2 (784,) (10,)\n",
      "2 (784,) (10,)\n",
      "2 (784,) (10,)\n",
      "2 (784,) (10,)\n",
      "2 (784,) (10,)\n",
      "2 (784,) (10,)\n",
      "2 (784,) (10,)\n",
      "2 (784,) (10,)\n",
      "2 (784,) (10,)\n",
      "2 (784,) (10,)\n",
      "2 (784,) (10,)\n",
      "2 (784,) (10,)\n",
      "2 (784,) (10,)\n",
      "2 (784,) (10,)\n",
      "2 (784,) (10,)\n",
      "2 (784,) (10,)\n",
      "2 (784,) (10,)\n",
      "2 (784,) (10,)\n",
      "2 (784,) (10,)\n",
      "2 (784,) (10,)\n",
      "2 (784,) (10,)\n",
      "2 (784,) (10,)\n",
      "2 (784,) (10,)\n",
      "2 (784,) (10,)\n",
      "2 (784,) (10,)\n",
      "2 (784,) (10,)\n",
      "2 (784,) (10,)\n",
      "2 (784,) (10,)\n",
      "2 (784,) (10,)\n",
      "2 (784,) (10,)\n",
      "2 (784,) (10,)\n",
      "2 (784,) (10,)\n",
      "2 (784,) (10,)\n",
      "2 (784,) (10,)\n",
      "2 (784,) (10,)\n",
      "2 (784,) (10,)\n",
      "2 (784,) (10,)\n",
      "2 (784,) (10,)\n",
      "2 (784,) (10,)\n",
      "2 (784,) (10,)\n",
      "2 (784,) (10,)\n",
      "2 (784,) (10,)\n",
      "2 (784,) (10,)\n",
      "2 (784,) (10,)\n",
      "2 (784,) (10,)\n",
      "2 (784,) (10,)\n",
      "2 (784,) (10,)\n",
      "2 (784,) (10,)\n",
      "2 (784,) (10,)\n",
      "2 (784,) (10,)\n",
      "2 (784,) (10,)\n",
      "2 (784,) (10,)\n",
      "2 (784,) (10,)\n",
      "2 (784,) (10,)\n",
      "2 (784,) (10,)\n",
      "2 (784,) (10,)\n",
      "2 (784,) (10,)\n",
      "2 (784,) (10,)\n",
      "2 (784,) (10,)\n",
      "2 (784,) (10,)\n",
      "2 (784,) (10,)\n",
      "2 (784,) (10,)\n",
      "2 (784,) (10,)\n",
      "2 (784,) (10,)\n",
      "2 (784,) (10,)\n",
      "2 (784,) (10,)\n",
      "2 (784,) (10,)\n",
      "2 (784,) (10,)\n",
      "2 (784,) (10,)\n",
      "2 (784,) (10,)\n",
      "2 (784,) (10,)\n",
      "2 (784,) (10,)\n",
      "2 (784,) (10,)\n",
      "2 (784,) (10,)\n",
      "2 (784,) (10,)\n",
      "2 (784,) (10,)\n",
      "2 (784,) (10,)\n",
      "2 (784,) (10,)\n",
      "2 (784,) (10,)\n",
      "2 (784,) (10,)\n",
      "2 (784,) (10,)\n",
      "2 (784,) (10,)\n",
      "2 (784,) (10,)\n",
      "2 (784,) (10,)\n",
      "2 (784,) (10,)\n",
      "2 (784,) (10,)\n",
      "2 (784,) (10,)\n",
      "2 (784,) (10,)\n",
      "2 (784,) (10,)\n",
      "2 (784,) (10,)\n",
      "2 (784,) (10,)\n",
      "2 (784,) (10,)\n",
      "2 (784,) (10,)\n",
      "2 (784,) (10,)\n",
      "2 (784,) (10,)\n",
      "2 (784,) (10,)\n",
      "2 (784,) (10,)\n",
      "2 (784,) (10,)\n",
      "2 (784,) (10,)\n",
      "2 (784,) (10,)\n",
      "2 (784,) (10,)\n",
      "2 (784,) (10,)\n",
      "2 (784,) (10,)\n",
      "2 (784,) (10,)\n",
      "2 (784,) (10,)\n",
      "2 (784,) (10,)\n",
      "2 (784,) (10,)\n",
      "2 (784,) (10,)\n",
      "2 (784,) (10,)\n",
      "2 (784,) (10,)\n",
      "2 (784,) (10,)\n",
      "2 (784,) (10,)\n",
      "2 (784,) (10,)\n",
      "2 (784,) (10,)\n",
      "2 (784,) (10,)\n",
      "2 (784,) (10,)\n",
      "2 (784,) (10,)\n",
      "2 (784,) (10,)\n",
      "2 (784,) (10,)\n",
      "2 (784,) (10,)\n",
      "2 (784,) (10,)\n",
      "2 (784,) (10,)\n",
      "2 (784,) (10,)\n",
      "2 (784,) (10,)\n",
      "2 (784,) (10,)\n",
      "2 (784,) (10,)\n",
      "2 (784,) (10,)\n",
      "2 (784,) (10,)\n",
      "2 (784,) (10,)\n",
      "2 (784,) (10,)\n",
      "2 (784,) (10,)\n",
      "2 (784,) (10,)\n",
      "2 (784,) (10,)\n",
      "2 (784,) (10,)\n",
      "2 (784,) (10,)\n",
      "2 (784,) (10,)\n",
      "2 (784,) (10,)\n",
      "2 (784,) (10,)\n",
      "2 (784,) (10,)\n",
      "2 (784,) (10,)\n",
      "2 (784,) (10,)\n",
      "2 (784,) (10,)\n",
      "2 (784,) (10,)\n",
      "2 (784,) (10,)\n",
      "2 (784,) (10,)\n",
      "2 (784,) (10,)\n",
      "2 (784,) (10,)\n",
      "2 (784,) (10,)\n",
      "2 (784,) (10,)\n",
      "2 (784,) (10,)\n",
      "2 (784,) (10,)\n",
      "2 (784,) (10,)\n",
      "2 (784,) (10,)\n",
      "2 (784,) (10,)\n",
      "2 (784,) (10,)\n",
      "2 (784,) (10,)\n",
      "2 (784,) (10,)\n",
      "2 (784,) (10,)\n",
      "2 (784,) (10,)\n",
      "2 (784,) (10,)\n",
      "2 (784,) (10,)\n",
      "2 (784,) (10,)\n",
      "2 (784,) (10,)\n",
      "2 (784,) (10,)\n",
      "2 (784,) (10,)\n",
      "2 (784,) (10,)\n",
      "2 (784,) (10,)\n",
      "2 (784,) (10,)\n",
      "2 (784,) (10,)\n",
      "2 (784,) (10,)\n",
      "2 (784,) (10,)\n",
      "2 (784,) (10,)\n",
      "2 (784,) (10,)\n",
      "2 (784,) (10,)\n",
      "2 (784,) (10,)\n",
      "2 (784,) (10,)\n",
      "2 (784,) (10,)\n",
      "2 (784,) (10,)\n",
      "2 (784,) (10,)\n",
      "2 (784,) (10,)\n",
      "2 (784,) (10,)\n",
      "2 (784,) (10,)\n",
      "2 (784,) (10,)\n",
      "2 (784,) (10,)\n",
      "2 (784,) (10,)\n",
      "2 (784,) (10,)\n",
      "2 (784,) (10,)\n",
      "2 (784,) (10,)\n",
      "2 (784,) (10,)\n",
      "2 (784,) (10,)\n",
      "2 (784,) (10,)\n",
      "2 (784,) (10,)\n",
      "2 (784,) (10,)\n",
      "2 (784,) (10,)\n",
      "2 (784,) (10,)\n"
     ]
    }
   ],
   "source": [
    "for x, y in zip(X_train, Y_train):\n",
    "    print(2, x.shape, y.shape)"
   ]
  },
  {
   "cell_type": "code",
   "execution_count": 36,
   "metadata": {},
   "outputs": [],
   "source": [
    "b = initialize_parameters(a)"
   ]
  }
 ],
 "metadata": {
  "kernelspec": {
   "display_name": "Python 3",
   "language": "python",
   "name": "python3"
  },
  "language_info": {
   "codemirror_mode": {
    "name": "ipython",
    "version": 3
   },
   "file_extension": ".py",
   "mimetype": "text/x-python",
   "name": "python",
   "nbconvert_exporter": "python",
   "pygments_lexer": "ipython3",
   "version": "3.7.4"
  }
 },
 "nbformat": 4,
 "nbformat_minor": 5
}
